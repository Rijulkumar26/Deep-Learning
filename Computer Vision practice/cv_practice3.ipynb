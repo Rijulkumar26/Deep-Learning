{
  "nbformat": 4,
  "nbformat_minor": 0,
  "metadata": {
    "colab": {
      "name": "cv_practice3.ipynb",
      "provenance": []
    },
    "kernelspec": {
      "name": "python3",
      "display_name": "Python 3"
    },
    "language_info": {
      "name": "python"
    }
  },
  "cells": [
    {
      "cell_type": "markdown",
      "source": [
        "**Train Image Classsification model**"
      ],
      "metadata": {
        "id": "1T-9lupS8MaE"
      }
    },
    {
      "cell_type": "code",
      "execution_count": null,
      "metadata": {
        "id": "MpqQlX2o8I6z"
      },
      "outputs": [],
      "source": [
        "import numpy as np\n",
        "from keras.datasets import fashion_mnist\n",
        "from tensorflow.keras.utils import to_categorical\n",
        "from keras.models import Sequential\n",
        "from keras.layers import Conv2D\n",
        "from keras.layers import MaxPool2D\n",
        "from keras.layers import Dropout\n",
        "from keras.layers import Dense\n",
        "from keras.layers import Flatten"
      ]
    },
    {
      "cell_type": "code",
      "source": [
        "#load dataset\n",
        "(trainX, trainY), (testX, testY) = fashion_mnist.load_data()"
      ],
      "metadata": {
        "id": "it_NU5Sy-dtX"
      },
      "execution_count": null,
      "outputs": []
    },
    {
      "cell_type": "code",
      "source": [
        "#reshape dataset to a single channel\n",
        "trainX = trainX.reshape(trainX.shape[0], 28, 28, 1)\n",
        "testX = testX.reshape(testX.shape[0], 28, 28, 1)"
      ],
      "metadata": {
        "id": "j8xxudULApxA"
      },
      "execution_count": null,
      "outputs": []
    },
    {
      "cell_type": "code",
      "source": [
        "#convert int to float32\n",
        "trainX = trainX.astype('float32')\n",
        "testX = testX.astype('float32')\n",
        "print(np.max(trainX))\n",
        "print(np.max(testX))\n",
        "\n",
        "#normalize\n",
        "trainX /= 255.0\n",
        "testX /= 255.0"
      ],
      "metadata": {
        "colab": {
          "base_uri": "https://localhost:8080/"
        },
        "id": "syK6E4ViD9kk",
        "outputId": "aa5509f9-3fc5-462d-9650-95b99b4a7663"
      },
      "execution_count": null,
      "outputs": [
        {
          "output_type": "stream",
          "name": "stdout",
          "text": [
            "255.0\n",
            "255.0\n"
          ]
        }
      ]
    },
    {
      "cell_type": "code",
      "source": [
        "# one hot encode target values\n",
        "trainY = to_categorical(trainY,dtype='float32')\n",
        "testY = to_categorical(testY,dtype='float32')"
      ],
      "metadata": {
        "id": "mk4Bt-ZyFs5U"
      },
      "execution_count": null,
      "outputs": []
    },
    {
      "cell_type": "code",
      "source": [
        "#model\n",
        "model = Sequential()\n",
        "\n",
        "model.add(Conv2D(filters=32, kernel_size=(3,3),  kernel_initializer='he_uniform', activation='relu', input_shape = (28,28,1)))\n",
        "model.add(MaxPool2D())\n",
        "model.add(Flatten())\n",
        "model.add(Dense(100, kernel_initializer='he_uniform', activation='relu'))\n",
        "model.add(Dense(10,activation='softmax'))\n",
        "\n",
        "model.compile(optimizer='adam', loss='categorical_crossentropy', metrics=['accuracy'])\n",
        "\n",
        "model.summary()"
      ],
      "metadata": {
        "colab": {
          "base_uri": "https://localhost:8080/"
        },
        "id": "3gEcgkkfKbaV",
        "outputId": "64a38857-7e31-4cb6-fa9e-e7693ee49413"
      },
      "execution_count": null,
      "outputs": [
        {
          "output_type": "stream",
          "name": "stdout",
          "text": [
            "Model: \"sequential_9\"\n",
            "_________________________________________________________________\n",
            " Layer (type)                Output Shape              Param #   \n",
            "=================================================================\n",
            " conv2d_9 (Conv2D)           (None, 26, 26, 32)        320       \n",
            "                                                                 \n",
            " max_pooling2d_8 (MaxPooling  (None, 13, 13, 32)       0         \n",
            " 2D)                                                             \n",
            "                                                                 \n",
            " flatten_7 (Flatten)         (None, 5408)              0         \n",
            "                                                                 \n",
            " dense_12 (Dense)            (None, 100)               540900    \n",
            "                                                                 \n",
            " dense_13 (Dense)            (None, 10)                1010      \n",
            "                                                                 \n",
            "=================================================================\n",
            "Total params: 542,230\n",
            "Trainable params: 542,230\n",
            "Non-trainable params: 0\n",
            "_________________________________________________________________\n"
          ]
        }
      ]
    },
    {
      "cell_type": "code",
      "source": [
        "#train/fit\n",
        "model.fit(x=trainX, y=trainY, batch_size=32, epochs=10, verbose=2)"
      ],
      "metadata": {
        "colab": {
          "base_uri": "https://localhost:8080/"
        },
        "id": "074frHylMu7-",
        "outputId": "ab88bb22-21a2-4a46-b7f8-e5edfbe214a2"
      },
      "execution_count": null,
      "outputs": [
        {
          "output_type": "stream",
          "name": "stdout",
          "text": [
            "Epoch 1/10\n",
            "1875/1875 - 30s - loss: 0.3820 - accuracy: 0.8631 - 30s/epoch - 16ms/step\n",
            "Epoch 2/10\n",
            "1875/1875 - 29s - loss: 0.2572 - accuracy: 0.9053 - 29s/epoch - 15ms/step\n",
            "Epoch 3/10\n",
            "1875/1875 - 29s - loss: 0.2136 - accuracy: 0.9216 - 29s/epoch - 15ms/step\n",
            "Epoch 4/10\n",
            "1875/1875 - 29s - loss: 0.1829 - accuracy: 0.9329 - 29s/epoch - 15ms/step\n",
            "Epoch 5/10\n",
            "1875/1875 - 29s - loss: 0.1575 - accuracy: 0.9411 - 29s/epoch - 15ms/step\n",
            "Epoch 6/10\n",
            "1875/1875 - 29s - loss: 0.1354 - accuracy: 0.9496 - 29s/epoch - 15ms/step\n",
            "Epoch 7/10\n",
            "1875/1875 - 29s - loss: 0.1157 - accuracy: 0.9570 - 29s/epoch - 15ms/step\n",
            "Epoch 8/10\n",
            "1875/1875 - 29s - loss: 0.0993 - accuracy: 0.9633 - 29s/epoch - 15ms/step\n",
            "Epoch 9/10\n",
            "1875/1875 - 29s - loss: 0.0844 - accuracy: 0.9688 - 29s/epoch - 15ms/step\n",
            "Epoch 10/10\n",
            "1875/1875 - 29s - loss: 0.0725 - accuracy: 0.9733 - 29s/epoch - 15ms/step\n"
          ]
        },
        {
          "output_type": "execute_result",
          "data": {
            "text/plain": [
              "<keras.callbacks.History at 0x7efed03cc790>"
            ]
          },
          "metadata": {},
          "execution_count": 108
        }
      ]
    },
    {
      "cell_type": "code",
      "source": [
        "#evaluate model\n",
        "loss, acc = model.evaluate(testX, testY, verbose=0)\n",
        "print('loss: ' + str(round(loss,1)) + '\\n' + 'accuracy: ' + str(round(acc,1)))"
      ],
      "metadata": {
        "colab": {
          "base_uri": "https://localhost:8080/"
        },
        "id": "d6wHDVtRPCPN",
        "outputId": "f2ac8594-37c5-4ea7-8d08-50fa60ae2b4d"
      },
      "execution_count": null,
      "outputs": [
        {
          "output_type": "stream",
          "name": "stdout",
          "text": [
            "loss: 0.3\n",
            "accuracy: 0.9\n"
          ]
        }
      ]
    }
  ]
}