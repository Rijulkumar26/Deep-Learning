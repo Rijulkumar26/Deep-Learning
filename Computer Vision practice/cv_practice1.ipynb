{
  "nbformat": 4,
  "nbformat_minor": 0,
  "metadata": {
    "colab": {
      "name": "cv_practice1.ipynb",
      "provenance": []
    },
    "kernelspec": {
      "name": "python3",
      "display_name": "Python 3"
    },
    "language_info": {
      "name": "python"
    }
  },
  "cells": [
    {
      "cell_type": "code",
      "execution_count": null,
      "metadata": {
        "id": "12_n8gU-GVtv"
      },
      "outputs": [],
      "source": [
        "import numpy as np\n",
        "#from numpy import asarray\n",
        "#from PIL import Image\n",
        "import os, cv2"
      ]
    },
    {
      "cell_type": "markdown",
      "source": [
        "**Image Preprocessing**"
      ],
      "metadata": {
        "id": "Dgt93P5BJSEW"
      }
    },
    {
      "cell_type": "code",
      "source": [
        "#img = Image.open('image1.jpg')\n",
        "#img = asarray(img, dtype= np.float32)"
      ],
      "metadata": {
        "id": "60bLcfllG9T0"
      },
      "execution_count": null,
      "outputs": []
    },
    {
      "cell_type": "code",
      "source": [
        "img = cv2.imread('image1.jpg')\n",
        "img = cv2.resize(img,(256,256))\n",
        "img = img.reshape(1,256,256,3)"
      ],
      "metadata": {
        "id": "7EJ7bwfuZ19u"
      },
      "execution_count": null,
      "outputs": []
    },
    {
      "cell_type": "code",
      "source": [
        "print('datatype: '+ str(img.dtype))\n",
        "print('Min: '+str(np.min(img))+'\\n'+'Max: '+str(np.max(img)))"
      ],
      "metadata": {
        "colab": {
          "base_uri": "https://localhost:8080/"
        },
        "id": "ss6Lg5ebHnbU",
        "outputId": "e094af56-8130-4ae6-ac19-ace99abae699"
      },
      "execution_count": null,
      "outputs": [
        {
          "output_type": "stream",
          "name": "stdout",
          "text": [
            "datatype: uint8\n",
            "Min: 0\n",
            "Max: 255\n"
          ]
        }
      ]
    },
    {
      "cell_type": "code",
      "source": [
        "img = img.astype('float32')"
      ],
      "metadata": {
        "id": "-DWYGpTbcFuM"
      },
      "execution_count": null,
      "outputs": []
    },
    {
      "cell_type": "code",
      "source": [
        "img/=255.0"
      ],
      "metadata": {
        "id": "XXSPIiOAI3GD"
      },
      "execution_count": null,
      "outputs": []
    },
    {
      "cell_type": "code",
      "source": [
        "print('datatype: '+ str(img.dtype))\n",
        "print('size: '+ str(img.shape))\n",
        "print('Min: '+str(np.min(img))+'\\n'+'Max: '+str(np.max(img)))"
      ],
      "metadata": {
        "colab": {
          "base_uri": "https://localhost:8080/"
        },
        "id": "m0nxSXOfJEVz",
        "outputId": "d1d8b0db-5814-4dd7-cb9c-85aa5fdaf703"
      },
      "execution_count": null,
      "outputs": [
        {
          "output_type": "stream",
          "name": "stdout",
          "text": [
            "datatype: float32\n",
            "size: (1, 256, 256, 3)\n",
            "Min: 0.0\n",
            "Max: 1.0\n"
          ]
        }
      ]
    },
    {
      "cell_type": "markdown",
      "source": [
        "**Layer Formation**"
      ],
      "metadata": {
        "id": "-0aPZYZSJdAG"
      }
    },
    {
      "cell_type": "code",
      "source": [
        "from keras.models import Sequential\n",
        "from keras.layers import Conv2D\n",
        "from keras.layers import MaxPool2D\n",
        "from keras.layers import Flatten\n",
        "from keras.layers import Dense\n",
        "from keras.layers import Dropout"
      ],
      "metadata": {
        "id": "X5-ye_6LJhv7"
      },
      "execution_count": null,
      "outputs": []
    },
    {
      "cell_type": "code",
      "source": [
        "model = Sequential()\n",
        "\n",
        "model.add(Conv2D(filters=32, kernel_size=(3,3), activation='relu', input_shape=(256, 256, 3)))\n",
        "model.add(MaxPool2D())\n",
        "model.add(Dropout(0.6))\n",
        "model.add(Flatten())\n",
        "model.add(Dense(units=1, activation='sigmoid'))"
      ],
      "metadata": {
        "id": "YFHFCqezKnnt"
      },
      "execution_count": null,
      "outputs": []
    },
    {
      "cell_type": "code",
      "source": [
        "import tensorflow as tf\n",
        "\n",
        "model.compile(optimizer=tf.keras.optimizers.Adam(learning_rate=0.001),\n",
        "              loss=tf.keras.losses.BinaryCrossentropy(),\n",
        "              metrics=tf.keras.metrics.BinaryAccuracy())"
      ],
      "metadata": {
        "id": "2PJf-AXdM9EG"
      },
      "execution_count": null,
      "outputs": []
    },
    {
      "cell_type": "code",
      "source": [
        "model.summary()"
      ],
      "metadata": {
        "colab": {
          "base_uri": "https://localhost:8080/"
        },
        "id": "BzvVWoCCL79l",
        "outputId": "a773f392-5ab2-4319-81ac-01f0c2beef9e"
      },
      "execution_count": null,
      "outputs": [
        {
          "output_type": "stream",
          "name": "stdout",
          "text": [
            "Model: \"sequential_15\"\n",
            "_________________________________________________________________\n",
            " Layer (type)                Output Shape              Param #   \n",
            "=================================================================\n",
            " conv2d_21 (Conv2D)          (None, 254, 254, 32)      896       \n",
            "                                                                 \n",
            " max_pooling2d_16 (MaxPoolin  (None, 127, 127, 32)     0         \n",
            " g2D)                                                            \n",
            "                                                                 \n",
            " dropout_9 (Dropout)         (None, 127, 127, 32)      0         \n",
            "                                                                 \n",
            " flatten_16 (Flatten)        (None, 516128)            0         \n",
            "                                                                 \n",
            " dense_15 (Dense)            (None, 1)                 516129    \n",
            "                                                                 \n",
            "=================================================================\n",
            "Total params: 517,025\n",
            "Trainable params: 517,025\n",
            "Non-trainable params: 0\n",
            "_________________________________________________________________\n"
          ]
        }
      ]
    }
  ]
}