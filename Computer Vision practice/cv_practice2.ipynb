{
  "nbformat": 4,
  "nbformat_minor": 0,
  "metadata": {
    "colab": {
      "name": "cv_practice2.ipynb",
      "provenance": [],
      "collapsed_sections": []
    },
    "kernelspec": {
      "name": "python3",
      "display_name": "Python 3"
    },
    "language_info": {
      "name": "python"
    }
  },
  "cells": [
    {
      "cell_type": "markdown",
      "source": [
        "**Image Classification using pretrained model VGG-16**"
      ],
      "metadata": {
        "id": "00wa5auPi2DR"
      }
    },
    {
      "cell_type": "code",
      "execution_count": null,
      "metadata": {
        "id": "wbozx_lNgI7d"
      },
      "outputs": [],
      "source": [
        "from keras.preprocessing.image import load_img\n",
        "from keras.preprocessing.image import img_to_array\n",
        "from keras.applications.vgg16 import preprocess_input\n",
        "from keras.applications.vgg16 import VGG16\n",
        "from keras.applications.vgg16 import decode_predictions"
      ]
    },
    {
      "cell_type": "code",
      "source": [
        "# load an image from file\n",
        "img = load_img('dog1.jpg', target_size=(224,224))\n",
        "\n",
        "# convert the image pixels to a numpy array\n",
        "img = img_to_array(img)\n",
        "\n",
        "# reshape data for the model\n",
        "img = img.reshape(1, img.shape[0], img.shape[1], img.shape[2])"
      ],
      "metadata": {
        "id": "r8OpUpc_oGCx"
      },
      "execution_count": null,
      "outputs": []
    },
    {
      "cell_type": "code",
      "source": [
        "#prepare image for VGG model\n",
        "img = preprocess_input(img)"
      ],
      "metadata": {
        "id": "DFkRk8Fuv2v7"
      },
      "execution_count": null,
      "outputs": []
    },
    {
      "cell_type": "code",
      "source": [
        "#loading model\n",
        "model = VGG16()"
      ],
      "metadata": {
        "id": "a0Sv6MaLxA92"
      },
      "execution_count": null,
      "outputs": []
    },
    {
      "cell_type": "code",
      "source": [
        "#predict probability across all output classes\n",
        "yhat = model.predict(img)"
      ],
      "metadata": {
        "id": "E6S7iii1xRpR"
      },
      "execution_count": null,
      "outputs": []
    },
    {
      "cell_type": "code",
      "source": [
        "#convert probability to class labels\n",
        "label = decode_predictions(yhat)"
      ],
      "metadata": {
        "id": "ZBSNdGv-x-ln"
      },
      "execution_count": null,
      "outputs": []
    },
    {
      "cell_type": "code",
      "source": [
        "#retrieve highest probability (most likely result)\n",
        "label = label[0][0]"
      ],
      "metadata": {
        "id": "2c8v2cR0yVL8"
      },
      "execution_count": null,
      "outputs": []
    },
    {
      "cell_type": "code",
      "source": [
        "#print classification\n",
        "print(label[0])\n",
        "print(label[1])\n",
        "print(str(round(label[2]*100,1))+'%')"
      ],
      "metadata": {
        "colab": {
          "base_uri": "https://localhost:8080/"
        },
        "id": "TKkzGq1cy2Jd",
        "outputId": "8a8e35e1-6b59-4bb6-d1ce-8be3d552c860"
      },
      "execution_count": null,
      "outputs": [
        {
          "output_type": "stream",
          "name": "stdout",
          "text": [
            "n02107142\n",
            "Doberman\n",
            "56.8%\n"
          ]
        }
      ]
    }
  ]
}