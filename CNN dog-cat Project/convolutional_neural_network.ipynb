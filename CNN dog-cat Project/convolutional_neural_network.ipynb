{
  "nbformat": 4,
  "nbformat_minor": 0,
  "metadata": {
    "colab": {
      "name": "convolutional_neural_network.ipynb",
      "provenance": [],
      "collapsed_sections": []
    },
    "kernelspec": {
      "name": "python3",
      "display_name": "Python 3"
    }
  },
  "cells": [
    {
      "cell_type": "markdown",
      "metadata": {
        "id": "3DR-eO17geWu"
      },
      "source": [
        "# Convolutional Neural Network"
      ]
    },
    {
      "cell_type": "markdown",
      "metadata": {
        "id": "EMefrVPCg-60"
      },
      "source": [
        "### Importing the libraries"
      ]
    },
    {
      "cell_type": "code",
      "metadata": {
        "id": "sCV30xyVhFbE"
      },
      "source": [
        "import tensorflow as tf\n",
        "from keras.preprocessing.image import ImageDataGenerator"
      ],
      "execution_count": 1,
      "outputs": []
    },
    {
      "cell_type": "code",
      "metadata": {
        "id": "FIleuCAjoFD8",
        "colab": {
          "base_uri": "https://localhost:8080/",
          "height": 35
        },
        "outputId": "4098048e-ac77-4e73-b036-05244082bd28"
      },
      "source": [
        "tf.__version__"
      ],
      "execution_count": 3,
      "outputs": [
        {
          "output_type": "execute_result",
          "data": {
            "application/vnd.google.colaboratory.intrinsic+json": {
              "type": "string"
            },
            "text/plain": [
              "'2.7.0'"
            ]
          },
          "metadata": {},
          "execution_count": 3
        }
      ]
    },
    {
      "cell_type": "code",
      "source": [
        "from google.colab import drive\n",
        "drive.mount('/content/drive')"
      ],
      "metadata": {
        "colab": {
          "base_uri": "https://localhost:8080/"
        },
        "id": "o54AO83Qlg1M",
        "outputId": "1d3772fb-63fc-4c92-fcf9-88fff4ff7c6b"
      },
      "execution_count": 4,
      "outputs": [
        {
          "output_type": "stream",
          "name": "stdout",
          "text": [
            "Mounted at /content/drive\n"
          ]
        }
      ]
    },
    {
      "cell_type": "code",
      "source": [
        "!ls '/content/drive/My Drive'"
      ],
      "metadata": {
        "colab": {
          "base_uri": "https://localhost:8080/"
        },
        "id": "b996-mMclq7k",
        "outputId": "f3cc3aae-de27-4217-b2ad-a3f2094b46b8"
      },
      "execution_count": 7,
      "outputs": [
        {
          "output_type": "stream",
          "name": "stdout",
          "text": [
            "'Colab Notebooks'\t  'CV ANIL KUMAR.docx'\t'Getting started.pdf'\n",
            " College_Data\t\t  'data science josh'\t KNN_Project_Data\n",
            "'CV ANIL KUMAR (1).docx'   dataset\t\t ubuntu\n"
          ]
        }
      ]
    },
    {
      "cell_type": "markdown",
      "metadata": {
        "id": "oxQxCBWyoGPE"
      },
      "source": [
        "## Part 1 - Data Preprocessing"
      ]
    },
    {
      "cell_type": "markdown",
      "metadata": {
        "id": "MvE-heJNo3GG"
      },
      "source": [
        "### Preprocessing the Training set"
      ]
    },
    {
      "cell_type": "code",
      "metadata": {
        "id": "0koUcJMJpEBD",
        "colab": {
          "base_uri": "https://localhost:8080/"
        },
        "outputId": "7aa84ab1-ae3c-4b8a-fec0-2a5cfcadb9b5"
      },
      "source": [
        "train_datagen = ImageDataGenerator(rescale = 1./255,\n",
        "                                   shear_range = 0.2,\n",
        "                                   zoom_range = 0.2,\n",
        "                                   horizontal_flip = True)\n",
        "training_set = train_datagen.flow_from_directory('/content/drive/My Drive/dataset/training_set',\n",
        "                                                 target_size = (64, 64),\n",
        "                                                 batch_size = 32,\n",
        "                                                 class_mode = 'binary')"
      ],
      "execution_count": 10,
      "outputs": [
        {
          "output_type": "stream",
          "name": "stdout",
          "text": [
            "Found 8000 images belonging to 2 classes.\n"
          ]
        }
      ]
    },
    {
      "cell_type": "markdown",
      "metadata": {
        "id": "mrCMmGw9pHys"
      },
      "source": [
        "### Preprocessing the Test set"
      ]
    },
    {
      "cell_type": "code",
      "metadata": {
        "id": "SH4WzfOhpKc3",
        "colab": {
          "base_uri": "https://localhost:8080/"
        },
        "outputId": "ff2a7a83-0384-4459-8394-5567b192fd3a"
      },
      "source": [
        "test_datagen = ImageDataGenerator(rescale = 1./255)\n",
        "test_set = test_datagen.flow_from_directory('/content/drive/My Drive/dataset/test_set',\n",
        "                                            target_size = (64, 64),\n",
        "                                            batch_size = 32,\n",
        "                                            class_mode = 'binary')"
      ],
      "execution_count": 12,
      "outputs": [
        {
          "output_type": "stream",
          "name": "stdout",
          "text": [
            "Found 2000 images belonging to 2 classes.\n"
          ]
        }
      ]
    },
    {
      "cell_type": "markdown",
      "metadata": {
        "id": "af8O4l90gk7B"
      },
      "source": [
        "## Part 2 - Building the CNN"
      ]
    },
    {
      "cell_type": "markdown",
      "metadata": {
        "id": "ces1gXY2lmoX"
      },
      "source": [
        "### Initialising the CNN"
      ]
    },
    {
      "cell_type": "code",
      "metadata": {
        "id": "SAUt4UMPlhLS"
      },
      "source": [
        "cnn = tf.keras.models.Sequential()"
      ],
      "execution_count": 13,
      "outputs": []
    },
    {
      "cell_type": "markdown",
      "metadata": {
        "id": "u5YJj_XMl5LF"
      },
      "source": [
        "### Step 1 - Convolution"
      ]
    },
    {
      "cell_type": "code",
      "metadata": {
        "id": "XPzPrMckl-hV"
      },
      "source": [
        "cnn.add(tf.keras.layers.Conv2D(filters=32, kernel_size=3, activation='relu', input_shape=[64, 64, 3]))"
      ],
      "execution_count": 14,
      "outputs": []
    },
    {
      "cell_type": "markdown",
      "metadata": {
        "id": "tf87FpvxmNOJ"
      },
      "source": [
        "### Step 2 - Pooling"
      ]
    },
    {
      "cell_type": "code",
      "metadata": {
        "id": "ncpqPl69mOac"
      },
      "source": [
        "cnn.add(tf.keras.layers.MaxPool2D(pool_size=2, strides=2))"
      ],
      "execution_count": 15,
      "outputs": []
    },
    {
      "cell_type": "markdown",
      "metadata": {
        "id": "xaTOgD8rm4mU"
      },
      "source": [
        "### Adding a second convolutional layer"
      ]
    },
    {
      "cell_type": "code",
      "metadata": {
        "id": "i_-FZjn_m8gk"
      },
      "source": [
        "cnn.add(tf.keras.layers.Conv2D(filters=32, kernel_size=3, activation='relu'))\n",
        "cnn.add(tf.keras.layers.MaxPool2D(pool_size=2, strides=2))"
      ],
      "execution_count": 16,
      "outputs": []
    },
    {
      "cell_type": "markdown",
      "metadata": {
        "id": "tmiEuvTunKfk"
      },
      "source": [
        "### Step 3 - Flattening"
      ]
    },
    {
      "cell_type": "code",
      "metadata": {
        "id": "6AZeOGCvnNZn"
      },
      "source": [
        "cnn.add(tf.keras.layers.Flatten())"
      ],
      "execution_count": 17,
      "outputs": []
    },
    {
      "cell_type": "markdown",
      "metadata": {
        "id": "dAoSECOm203v"
      },
      "source": [
        "### Step 4 - Full Connection"
      ]
    },
    {
      "cell_type": "code",
      "metadata": {
        "id": "8GtmUlLd26Nq"
      },
      "source": [
        "cnn.add(tf.keras.layers.Dense(units=128, activation='relu'))"
      ],
      "execution_count": 18,
      "outputs": []
    },
    {
      "cell_type": "markdown",
      "metadata": {
        "id": "yTldFvbX28Na"
      },
      "source": [
        "### Step 5 - Output Layer"
      ]
    },
    {
      "cell_type": "code",
      "metadata": {
        "id": "1p_Zj1Mc3Ko_"
      },
      "source": [
        "cnn.add(tf.keras.layers.Dense(units=1, activation='sigmoid'))"
      ],
      "execution_count": 19,
      "outputs": []
    },
    {
      "cell_type": "markdown",
      "metadata": {
        "id": "D6XkI90snSDl"
      },
      "source": [
        "## Part 3 - Training the CNN"
      ]
    },
    {
      "cell_type": "markdown",
      "metadata": {
        "id": "vfrFQACEnc6i"
      },
      "source": [
        "### Compiling the CNN"
      ]
    },
    {
      "cell_type": "code",
      "metadata": {
        "id": "NALksrNQpUlJ"
      },
      "source": [
        "cnn.compile(optimizer = 'adam', loss = 'binary_crossentropy', metrics = ['accuracy'])"
      ],
      "execution_count": 20,
      "outputs": []
    },
    {
      "cell_type": "markdown",
      "metadata": {
        "id": "ehS-v3MIpX2h"
      },
      "source": [
        "### Training the CNN on the Training set and evaluating it on the Test set"
      ]
    },
    {
      "cell_type": "code",
      "metadata": {
        "id": "XUj1W4PJptta",
        "colab": {
          "base_uri": "https://localhost:8080/"
        },
        "outputId": "ee4c66e0-3c03-46b7-a395-dada08981dff"
      },
      "source": [
        "cnn.fit(x = training_set, validation_data = test_set, epochs = 25)"
      ],
      "execution_count": 21,
      "outputs": [
        {
          "output_type": "stream",
          "name": "stdout",
          "text": [
            "Epoch 1/25\n",
            "250/250 [==============================] - 979s 4s/step - loss: 0.6860 - accuracy: 0.5577 - val_loss: 0.6671 - val_accuracy: 0.5980\n",
            "Epoch 2/25\n",
            "250/250 [==============================] - 79s 316ms/step - loss: 0.6344 - accuracy: 0.6406 - val_loss: 0.5822 - val_accuracy: 0.6930\n",
            "Epoch 3/25\n",
            "250/250 [==============================] - 79s 316ms/step - loss: 0.5870 - accuracy: 0.6917 - val_loss: 0.5776 - val_accuracy: 0.6995\n",
            "Epoch 4/25\n",
            "250/250 [==============================] - 78s 314ms/step - loss: 0.5582 - accuracy: 0.7132 - val_loss: 0.5323 - val_accuracy: 0.7400\n",
            "Epoch 5/25\n",
            "250/250 [==============================] - 78s 311ms/step - loss: 0.5289 - accuracy: 0.7361 - val_loss: 0.5232 - val_accuracy: 0.7475\n",
            "Epoch 6/25\n",
            "250/250 [==============================] - 77s 309ms/step - loss: 0.4990 - accuracy: 0.7590 - val_loss: 0.5316 - val_accuracy: 0.7420\n",
            "Epoch 7/25\n",
            "250/250 [==============================] - 76s 306ms/step - loss: 0.4792 - accuracy: 0.7688 - val_loss: 0.4840 - val_accuracy: 0.7690\n",
            "Epoch 8/25\n",
            "250/250 [==============================] - 76s 305ms/step - loss: 0.4649 - accuracy: 0.7786 - val_loss: 0.5036 - val_accuracy: 0.7485\n",
            "Epoch 9/25\n",
            "250/250 [==============================] - 77s 310ms/step - loss: 0.4399 - accuracy: 0.7926 - val_loss: 0.4812 - val_accuracy: 0.7765\n",
            "Epoch 10/25\n",
            "250/250 [==============================] - 78s 310ms/step - loss: 0.4317 - accuracy: 0.7997 - val_loss: 0.4773 - val_accuracy: 0.7855\n",
            "Epoch 11/25\n",
            "250/250 [==============================] - 77s 308ms/step - loss: 0.4209 - accuracy: 0.8009 - val_loss: 0.4602 - val_accuracy: 0.7900\n",
            "Epoch 12/25\n",
            "250/250 [==============================] - 78s 310ms/step - loss: 0.4025 - accuracy: 0.8200 - val_loss: 0.4642 - val_accuracy: 0.7985\n",
            "Epoch 13/25\n",
            "250/250 [==============================] - 79s 316ms/step - loss: 0.3942 - accuracy: 0.8177 - val_loss: 0.4469 - val_accuracy: 0.8095\n",
            "Epoch 14/25\n",
            "250/250 [==============================] - 79s 316ms/step - loss: 0.3681 - accuracy: 0.8326 - val_loss: 0.5116 - val_accuracy: 0.7895\n",
            "Epoch 15/25\n",
            "250/250 [==============================] - 79s 317ms/step - loss: 0.3491 - accuracy: 0.8447 - val_loss: 0.4808 - val_accuracy: 0.8040\n",
            "Epoch 16/25\n",
            "250/250 [==============================] - 79s 317ms/step - loss: 0.3344 - accuracy: 0.8549 - val_loss: 0.4789 - val_accuracy: 0.8060\n",
            "Epoch 17/25\n",
            "250/250 [==============================] - 82s 326ms/step - loss: 0.3182 - accuracy: 0.8616 - val_loss: 0.4672 - val_accuracy: 0.8135\n",
            "Epoch 18/25\n",
            "250/250 [==============================] - 83s 330ms/step - loss: 0.3102 - accuracy: 0.8687 - val_loss: 0.5155 - val_accuracy: 0.8000\n",
            "Epoch 19/25\n",
            "250/250 [==============================] - 83s 330ms/step - loss: 0.2934 - accuracy: 0.8714 - val_loss: 0.4961 - val_accuracy: 0.8010\n",
            "Epoch 20/25\n",
            "250/250 [==============================] - 81s 323ms/step - loss: 0.2740 - accuracy: 0.8808 - val_loss: 0.5299 - val_accuracy: 0.7925\n",
            "Epoch 21/25\n",
            "250/250 [==============================] - 80s 321ms/step - loss: 0.2634 - accuracy: 0.8891 - val_loss: 0.5560 - val_accuracy: 0.7855\n",
            "Epoch 22/25\n",
            "250/250 [==============================] - 80s 319ms/step - loss: 0.2497 - accuracy: 0.9015 - val_loss: 0.5370 - val_accuracy: 0.8020\n",
            "Epoch 23/25\n",
            "250/250 [==============================] - 80s 320ms/step - loss: 0.2408 - accuracy: 0.9004 - val_loss: 0.5690 - val_accuracy: 0.7870\n",
            "Epoch 24/25\n",
            "250/250 [==============================] - 80s 319ms/step - loss: 0.2420 - accuracy: 0.9004 - val_loss: 0.5304 - val_accuracy: 0.8095\n",
            "Epoch 25/25\n",
            "250/250 [==============================] - 79s 318ms/step - loss: 0.2201 - accuracy: 0.9091 - val_loss: 0.5348 - val_accuracy: 0.7955\n"
          ]
        },
        {
          "output_type": "execute_result",
          "data": {
            "text/plain": [
              "<keras.callbacks.History at 0x7f6634731dd0>"
            ]
          },
          "metadata": {},
          "execution_count": 21
        }
      ]
    },
    {
      "cell_type": "markdown",
      "metadata": {
        "id": "U3PZasO0006Z"
      },
      "source": [
        "## Part 4 - Making a single prediction"
      ]
    },
    {
      "cell_type": "code",
      "metadata": {
        "id": "gsSiWEJY1BPB"
      },
      "source": [
        "import numpy as np\n",
        "from keras.preprocessing import image\n",
        "test_image = image.load_img('/content/drive/My Drive/dataset/single_prediction/cat_or_dog_1.jpg', target_size = (64, 64))\n",
        "test_image = image.img_to_array(test_image)\n",
        "test_image = np.expand_dims(test_image, axis = 0)\n",
        "result = cnn.predict(test_image)\n",
        "training_set.class_indices\n",
        "if result[0][0] == 1:\n",
        "  prediction = 'dog'\n",
        "else:\n",
        "  prediction = 'cat'"
      ],
      "execution_count": 22,
      "outputs": []
    },
    {
      "cell_type": "code",
      "metadata": {
        "id": "ED9KB3I54c1i",
        "colab": {
          "base_uri": "https://localhost:8080/"
        },
        "outputId": "3d8e50f9-a1e4-4bed-fadc-0ac7e5f3f97f"
      },
      "source": [
        "print(prediction)"
      ],
      "execution_count": 23,
      "outputs": [
        {
          "output_type": "stream",
          "name": "stdout",
          "text": [
            "dog\n"
          ]
        }
      ]
    }
  ]
}